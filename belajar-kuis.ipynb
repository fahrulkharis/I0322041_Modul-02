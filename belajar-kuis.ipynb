{
 "cells": [
  {
   "cell_type": "code",
   "execution_count": 2,
   "metadata": {},
   "outputs": [
    {
     "name": "stdout",
     "output_type": "stream",
     "text": [
      "Kharis\n"
     ]
    }
   ],
   "source": [
    "nama = input(\"masukkan nama: \")\n",
    "print (nama)"
   ]
  },
  {
   "cell_type": "code",
   "execution_count": 5,
   "metadata": {},
   "outputs": [
    {
     "name": "stdout",
     "output_type": "stream",
     "text": [
      "<class 'str'>\n",
      "<class 'int'>\n",
      "<class 'str'>\n"
     ]
    }
   ],
   "source": [
    "nama = \"Posi\"\n",
    "tahun = 2020\n",
    "print(type(nama))\n",
    "print(type(tahun))\n",
    "print(type(\"TI UNS\"))"
   ]
  },
  {
   "cell_type": "code",
   "execution_count": 6,
   "metadata": {},
   "outputs": [
    {
     "name": "stdout",
     "output_type": "stream",
     "text": [
      "100\n"
     ]
    }
   ],
   "source": [
    "a=40\n",
    "b=60\n",
    "c=a+b\n",
    "print(c)"
   ]
  },
  {
   "cell_type": "code",
   "execution_count": 10,
   "metadata": {},
   "outputs": [
    {
     "name": "stdout",
     "output_type": "stream",
     "text": [
      "25.0\n"
     ]
    }
   ],
   "source": [
    "a=125\n",
    "b=5\n",
    "c=a/b\n",
    "print(c)"
   ]
  },
  {
   "cell_type": "code",
   "execution_count": 17,
   "metadata": {},
   "outputs": [
    {
     "name": "stdout",
     "output_type": "stream",
     "text": [
      "bilangan komplek:  (2+3j)\n",
      "bilangan real:  2.0\n",
      "bilangan imajiner:  3.0\n"
     ]
    }
   ],
   "source": [
    "z=2+3j\n",
    "real_part=z.real\n",
    "imaginary_part=z.imag\n",
    "print(\"bilangan komplek: \", z)\n",
    "print(\"bilangan real: \", real_part)\n",
    "print(\"bilangan imajiner: \", imaginary_part)"
   ]
  },
  {
   "cell_type": "code",
   "execution_count": 20,
   "metadata": {},
   "outputs": [
    {
     "name": "stdout",
     "output_type": "stream",
     "text": [
      "6\n"
     ]
    }
   ],
   "source": [
    "thistuple=(1, 3, 7, 8, 7, 5, 4, 6, 8, 5)\n",
    "x=thistuple.index(4)\n",
    "print(x)"
   ]
  },
  {
   "cell_type": "code",
   "execution_count": 16,
   "metadata": {},
   "outputs": [
    {
     "name": "stdout",
     "output_type": "stream",
     "text": [
      "luas lingkaran dengan jari jari 7 adalah 153.86 cm²\n"
     ]
    }
   ],
   "source": [
    "pi=3.14\n",
    "r=7\n",
    "luas=pi*(r**2)\n",
    "print(f\"luas lingkaran dengan jari jari {r} adalah {luas} cm\\u00b2\")"
   ]
  }
 ],
 "metadata": {
  "kernelspec": {
   "display_name": "Python 3.10.8 64-bit",
   "language": "python",
   "name": "python3"
  },
  "language_info": {
   "codemirror_mode": {
    "name": "ipython",
    "version": 3
   },
   "file_extension": ".py",
   "mimetype": "text/x-python",
   "name": "python",
   "nbconvert_exporter": "python",
   "pygments_lexer": "ipython3",
   "version": "3.10.8"
  },
  "orig_nbformat": 4,
  "vscode": {
   "interpreter": {
    "hash": "afb734500600fd355917ca529030176ea0ca205570884b88f2f6f7d791fd3fbe"
   }
  }
 },
 "nbformat": 4,
 "nbformat_minor": 2
}
